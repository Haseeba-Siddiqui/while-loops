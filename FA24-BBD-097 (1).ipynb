{
 "cells": [
  {
   "cell_type": "code",
   "execution_count": 1,
   "id": "0b270920-a58d-47b5-9d0c-2ecbc2fbefa5",
   "metadata": {},
   "outputs": [
    {
     "name": "stdout",
     "output_type": "stream",
     "text": [
      "1\n",
      "2\n",
      "3\n",
      "4\n",
      "5\n",
      "6\n",
      "7\n",
      "8\n",
      "9\n",
      "10\n"
     ]
    }
   ],
   "source": [
    "# haseeba siddiqui\n",
    "#FA24-BBD-097\n",
    "#Counting with While Loop  \n",
    "#Write a program that uses a while loop to count from 1 to 10 and print each number.\n",
    "count = 1\n",
    "while count <= 10:\n",
    "    print(count)  # Print the current value of count\n",
    "    count += 1    # Increment the count by 1 after each loop iteration"
   ]
  },
  {
   "cell_type": "code",
   "execution_count": 2,
   "id": "3884d8e2-fe98-4040-b0e6-370fc0d46a7c",
   "metadata": {},
   "outputs": [
    {
     "name": "stdout",
     "output_type": "stream",
     "text": [
      "2\n",
      "4\n",
      "6\n",
      "8\n",
      "10\n",
      "12\n",
      "14\n",
      "16\n",
      "18\n",
      "20\n"
     ]
    }
   ],
   "source": [
    "#Even Numbers  \n",
    " # Create a while loop to print all even numbers from 1 to 20.\n",
    "num = 2\n",
    "while num <= 20:\n",
    "    print(num)  # Print the current value of num\n",
    "    num += 2    # Increment num by 2 to get the next even number\n"
   ]
  },
  {
   "cell_type": "code",
   "execution_count": 3,
   "id": "894dfaec-07d8-4789-97ca-0f6f6fc311e1",
   "metadata": {},
   "outputs": [
    {
     "name": "stdout",
     "output_type": "stream",
     "text": [
      "The sum of the first 10 natural numbers is: 55\n"
     ]
    }
   ],
   "source": [
    "#Sum of Natural Numbers\n",
    "#Write a program using a while loop to calculate the sum of the first 10 natural numbers.\n",
    "num = 1  # Start from the first natural number\n",
    "sum_of_numbers = 0  # Initialize the sum to 0\n",
    "\n",
    "# Use a while loop to calculate the sum of the first 10 natural numbers\n",
    "while num <= 10:\n",
    "    sum_of_numbers += num  # Add the current number to the sum\n",
    "    num += 1  # Increment num by 1 to move to the next natural number\n",
    "\n",
    "# Print the result\n",
    "print(\"The sum of the first 10 natural numbers is:\", sum_of_numbers)"
   ]
  },
  {
   "cell_type": "code",
   "execution_count": 4,
   "id": "285c0ac5-3045-4863-9ab5-7fd16aa87be3",
   "metadata": {},
   "outputs": [
    {
     "name": "stdin",
     "output_type": "stream",
     "text": [
      "Enter a number (negative number to stop):  99\n",
      "Enter a number (negative number to stop):  -12\n"
     ]
    }
   ],
   "source": [
    "#Write a program that asks the user for input  to enter numbers. The loop should keep asking for numbers until the user enters a negative number. \n",
    "total_sum = 0\n",
    "while True:\n",
    "    num = int(input(\"Enter a number (negative number to stop): \"))\n",
    "    if num < 0:\n",
    "        break  \n",
    "    total_sum += num"
   ]
  },
  {
   "cell_type": "code",
   "execution_count": 5,
   "id": "591745a6-12b2-4fb1-94b4-45ccca2f4edc",
   "metadata": {},
   "outputs": [
    {
     "name": "stdin",
     "output_type": "stream",
     "text": [
      "Enter a positive integer:  66\n"
     ]
    },
    {
     "name": "stdout",
     "output_type": "stream",
     "text": [
      "The factorial is: 544344939077443064003729240247842752644293064388798874532860126869671081148416000000000000000\n"
     ]
    }
   ],
   "source": [
    "#Write a program to calculate the factorial of a given positive integer using a while loop.\n",
    "num = int(input(\"Enter a positive integer: \"))\n",
    "factorial = 1\n",
    "if num < 0:\n",
    "    print(\"Factorial is not defined for negative numbers.\")\n",
    "else:\n",
    "    while num > 1:\n",
    "        factorial *= num  \n",
    "        num -= 1  \n",
    "    print(f\"The factorial is: {factorial}\")"
   ]
  },
  {
   "cell_type": "code",
   "execution_count": null,
   "id": "aaf9a1e1-1029-4ce3-ba60-26b78ce0b7a4",
   "metadata": {},
   "outputs": [],
   "source": [
    "#Creating a guessing game where the user has to guess a number between 1 and 100\n",
    "import random\n",
    "secret_number = random.randint(1, 100)\n",
    "guess = None\n",
    "while guess != secret_number:\n",
    "    guess = int(input(\"Guess a number between 1 and 100: \"))\n",
    "    if guess < secret_number:\n",
    "        print(\"Too low! Try again.\")\n",
    "    elif guess > secret_number:\n",
    "        print(\"Too high! Try again.\")\n",
    "    else:\n",
    "        print(\"Congratulations! You've guessed the correct number.\")"
   ]
  },
  {
   "cell_type": "code",
   "execution_count": 11,
   "id": "09bedfde-7f67-406b-b57e-4c5546eb073a",
   "metadata": {},
   "outputs": [
    {
     "name": "stdin",
     "output_type": "stream",
     "text": [
      "Enter a number (or 'done' to finish):  7\n",
      "Enter a number (or 'done' to finish):  0.2\n",
      "Enter a number (or 'done' to finish):  done\n"
     ]
    },
    {
     "name": "stdout",
     "output_type": "stream",
     "text": [
      "The average is: 3.6\n"
     ]
    }
   ],
   "source": [
    "#Write a program that uses a while loop to take in a series of numbers from the user. The loop should stop when the user enters \"done\".\n",
    "total_sum = 0\n",
    "count = 0\n",
    "while True:\n",
    "    user_input = input(\"Enter a number (or 'done' to finish): \")\n",
    "    \n",
    "    if user_input.lower() == \"done\":\n",
    "        break\n",
    "    \n",
    "    total_sum += float(user_input)\n",
    "    count += 1\n",
    "if count > 0:\n",
    "    print(f\"The average is: {total_sum / count}\")\n",
    "else:\n",
    "    print(\"No numbers entered.\")"
   ]
  },
  {
   "cell_type": "code",
   "execution_count": null,
   "id": "049e3e96-4867-4b91-ae90-39d9652ae86b",
   "metadata": {},
   "outputs": [],
   "source": [
    "#Using a while loop, print the Fibonacci sequence up to a specified number n (where n is an integer input by the user).\n",
    "n = int(input(\"Enter a number: \"))\n",
    "a, b = 0, 1\n",
    "while a <= n:\n",
    "    print(a, end=\" \")  \n",
    "    a, b = b, a + b"
   ]
  }
 ],
 "metadata": {
  "kernelspec": {
   "display_name": "Python 3 (ipykernel)",
   "language": "python",
   "name": "python3"
  },
  "language_info": {
   "codemirror_mode": {
    "name": "ipython",
    "version": 3
   },
   "file_extension": ".py",
   "mimetype": "text/x-python",
   "name": "python",
   "nbconvert_exporter": "python",
   "pygments_lexer": "ipython3",
   "version": "3.12.4"
  }
 },
 "nbformat": 4,
 "nbformat_minor": 5
}
